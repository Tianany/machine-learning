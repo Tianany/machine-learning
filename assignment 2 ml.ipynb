{
 "cells": [
  {
   "cell_type": "code",
   "execution_count": 2,
   "id": "5a16bbee",
   "metadata": {},
   "outputs": [],
   "source": [
    "#import necessary libraries\n",
    "from numpy import where\n",
    "from numpy import unique\n",
    "from sklearn.datasets import make_classification\n",
    "from sklearn.cluster import AgglomerativeClustering\n",
    "import matplotlib.pyplot as plot\n",
    "\n"
   ]
  },
  {
   "cell_type": "markdown",
   "id": "1103ed3a",
   "metadata": {},
   "source": [
    "**generating a  clustering dataset**"
   ]
  },
  {
   "cell_type": "code",
   "execution_count": 4,
   "id": "37a8d3c7",
   "metadata": {},
   "outputs": [],
   "source": [
    "# Generate a random classification dataset\n",
    "train_data, _ = make_classification(n_samples=1000,\n",
    "                                   n_features=2,\n",
    "                                   n_informative=2,\n",
    "                                   n_redundant=0,\n",
    "                                   n_clusters_per_class=1,\n",
    "                                   random_state=4)\n"
   ]
  },
  {
   "cell_type": "markdown",
   "id": "e16b79db",
   "metadata": {},
   "source": [
    "**CREATE AN AGGLOMERATIVE MODEL**"
   ]
  },
  {
   "cell_type": "code",
   "execution_count": 5,
   "id": "d49f0e5c",
   "metadata": {},
   "outputs": [],
   "source": [
    "# Create an Agglomerative Clustering model with 4 clusters\n",
    "agg_mdl = AgglomerativeClustering(n_clusters=4)"
   ]
  },
  {
   "cell_type": "markdown",
   "id": "c263333d",
   "metadata": {},
   "source": [
    "**FIT MODEL TO THE DATA**"
   ]
  },
  {
   "cell_type": "code",
   "execution_count": 7,
   "id": "dabba45c",
   "metadata": {},
   "outputs": [],
   "source": [
    "# Fit the model to the data\n",
    "agg_result = agg_mdl.fit_predict(train_data)"
   ]
  },
  {
   "cell_type": "markdown",
   "id": "3829874b",
   "metadata": {},
   "source": [
    "**GET UNIQUE CLUSTER LABELS**"
   ]
  },
  {
   "cell_type": "code",
   "execution_count": 8,
   "id": "b90bd50e",
   "metadata": {},
   "outputs": [],
   "source": [
    "# Get the unique cluster labels\n",
    "agg_clusters = unique(agg_result)"
   ]
  },
  {
   "cell_type": "markdown",
   "id": "fe8f7949",
   "metadata": {},
   "source": [
    "**PLOT CLUSTERS**"
   ]
  },
  {
   "cell_type": "code",
   "execution_count": 9,
   "id": "1104282f",
   "metadata": {},
   "outputs": [
    {
     "data": {
      "image/png": "[encoded data removed]",
      "text/plain": [
       "<Figure size 432x288 with 1 Axes>"
      ]
     },
     "metadata": {
      "needs_background": "light"
     },
     "output_type": "display_data"
    }
   ],
   "source": [
    "# Plot the clusters\n",
    "for agg_cluster in agg_clusters:\n",
    "    index = where(agg_result == agg_cluster)\n",
    "    plot.scatter(train_data[index, 0], train_data[index, 1])\n"
   ]
  },
  {
   "cell_type": "code",
   "execution_count": 10,
   "id": "540b86be",
   "metadata": {},
   "outputs": [],
   "source": [
    "plot.show()"
   ]
  },
  {
   "cell_type": "code",
   "execution_count": null,
   "id": "5f0a0cc9",
   "metadata": {},
   "outputs": [],
   "source": []
  }
 ],
 "metadata": {
  "kernelspec": {
   "display_name": "Python 3 (ipykernel)",
   "language": "python",
   "name": "python3"
  },
  "language_info": {
   "codemirror_mode": {
    "name": "ipython",
    "version": 3
   },
   "file_extension": ".py",
   "mimetype": "text/x-python",
   "name": "python",
   "nbconvert_exporter": "python",
   "pygments_lexer": "ipython3",
   "version": "3.9.7"
  }
 },
 "nbformat": 4,
 "nbformat_minor": 5
}
