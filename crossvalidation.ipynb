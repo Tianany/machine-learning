{
 "cells": [
  {
   "cell_type": "code",
   "execution_count": 3,
   "id": "28db0e9b",
   "metadata": {},
   "outputs": [],
   "source": [
    "from sklearn.model_selection import cross_val_score, KFold\n",
    "from sklearn.svm import SVC\n",
    "from sklearn.datasets import load_iris"
   ]
  },
  {
   "cell_type": "markdown",
   "id": "3e2f2a4b",
   "metadata": {},
   "source": [
    "**LOAD THE DATATSET**"
   ]
  },
  {
   "cell_type": "code",
   "execution_count": 4,
   "id": "234a79e8",
   "metadata": {},
   "outputs": [],
   "source": [
    "# Load the dataset\n",
    "iris = load_iris()\n",
    "X, y = iris.data, iris.target\n"
   ]
  },
  {
   "cell_type": "markdown",
   "id": "d2a4cb75",
   "metadata": {},
   "source": [
    "**CREATE THE SVM CLASSIFIER**"
   ]
  },
  {
   "cell_type": "code",
   "execution_count": 5,
   "id": "eabf800e",
   "metadata": {},
   "outputs": [],
   "source": [
    "# Create an SVM classifier\n",
    "svm_classifier = SVC(kernel='linear')\n"
   ]
  },
  {
   "cell_type": "markdown",
   "id": "180d4922",
   "metadata": {},
   "source": [
    "**DEFINE NUMBER OF FOLDS FOR CROSSVALIDATION**"
   ]
  },
  {
   "cell_type": "code",
   "execution_count": 6,
   "id": "f13154d1",
   "metadata": {},
   "outputs": [],
   "source": [
    "# Define the number of folds for cross-validation\n",
    "num_folds = 5\n",
    "kf = KFold(n_splits=num_folds, shuffle=True, random_state=42)"
   ]
  },
  {
   "cell_type": "markdown",
   "id": "77068430",
   "metadata": {},
   "source": [
    "**PERFOM K-FOLD CROSS VALIDATION**"
   ]
  },
  {
   "cell_type": "code",
   "execution_count": 7,
   "id": "7fc79920",
   "metadata": {},
   "outputs": [],
   "source": [
    "# Perform k-fold cross-validation\n",
    "cross_val_results = cross_val_score(svm_classifier, X, y, cv=kf)"
   ]
  },
  {
   "cell_type": "markdown",
   "id": "4ad35884",
   "metadata": {},
   "source": [
    "**evaluation metrics**"
   ]
  },
  {
   "cell_type": "code",
   "execution_count": 8,
   "id": "0d589599",
   "metadata": {},
   "outputs": [
    {
     "name": "stdout",
     "output_type": "stream",
     "text": [
      "Cross-Validation Results (Accuracy): [1.         1.         0.96666667 0.93333333 0.96666667]\n",
      "Mean Accuracy: 0.9733333333333334\n"
     ]
    }
   ],
   "source": [
    "# Evaluation metrics\n",
    "print(f'Cross-Validation Results (Accuracy): {cross_val_results}')\n",
    "print(f'Mean Accuracy: {cross_val_results.mean()}')"
   ]
  },
  {
   "cell_type": "code",
   "execution_count": null,
   "id": "a5f8f619",
   "metadata": {},
   "outputs": [],
   "source": []
  }
 ],
 "metadata": {
  "kernelspec": {
   "display_name": "Python 3 (ipykernel)",
   "language": "python",
   "name": "python3"
  },
  "language_info": {
   "codemirror_mode": {
    "name": "ipython",
    "version": 3
   },
   "file_extension": ".py",
   "mimetype": "text/x-python",
   "name": "python",
   "nbconvert_exporter": "python",
   "pygments_lexer": "ipython3",
   "version": "3.9.7"
  }
 },
 "nbformat": 4,
 "nbformat_minor": 5
}
